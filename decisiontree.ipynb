{
 "cells": [
  {
   "cell_type": "code",
   "execution_count": 2,
   "metadata": {},
   "outputs": [],
   "source": [
    "import numpy as np\n",
    "import pandas as pd\n",
    "from sklearn import svm\n",
    "from sklearn.model_selection import cross_val_score\n",
    "from sklearn.tree import DecisionTreeClassifier\n",
    "from sklearn.model_selection import train_test_split\n",
    "import sklearn.metrics as sm\n",
    "from sklearn.model_selection import cross_validate\n",
    "import matplotlib.pyplot as plt"
   ]
  },
  {
   "cell_type": "code",
   "execution_count": 3,
   "metadata": {},
   "outputs": [],
   "source": [
    "def makeTreeClf(x_train, y_train, x_test, y_test):\n",
    "    clf = DecisionTreeClassifier(criterion='entropy')\n",
    "    h = clf.fit(x_train, y_train)\n",
    "    y_prediction = h.predict(x_test)\n",
    "    s = h.score(x_test, y_prediction)\n",
    "    acS = sm.accuracy_score(y_test, y_prediction)\n",
    "    pS = sm.precision_score(y_test, y_prediction, average='macro')\n",
    "    f1S = sm.f1_score(y_test, y_prediction, average='macro')\n",
    "    return [acS, \n",
    "            pS,\n",
    "            f1S,\n",
    "            (acS+pS+f1S)/3\n",
    "           ]"
   ]
  },
  {
   "cell_type": "code",
   "execution_count": 4,
   "metadata": {},
   "outputs": [],
   "source": [
    "def makeTreeClfEntropy(x_train, y_train, x_test, y_test):\n",
    "    clf = DecisionTreeClassifier()\n",
    "    h = clf.fit(x_train, y_train)\n",
    "    y_prediction = h.predict(x_test)\n",
    "    s = h.score(x_test, y_prediction)\n",
    "    acS = sm.accuracy_score(y_test, y_prediction)\n",
    "    pS = sm.precision_score(y_test, y_prediction, average='macro')\n",
    "    f1S = sm.f1_score(y_test, y_prediction, average='macro')\n",
    "    return [acS, \n",
    "            pS,\n",
    "            f1S,\n",
    "            (acS+pS+f1S)/3\n",
    "           ]"
   ]
  },
  {
   "cell_type": "code",
   "execution_count": 5,
   "metadata": {},
   "outputs": [],
   "source": [
    "def makeTable(table):\n",
    "    tableAS =np.asarray(table)\n",
    "    tableAS = np.transpose(tableAS)\n",
    "    pd.Series(tableAS[0], name='Acc')\n",
    "    pd.Series(tableAS[1], name='Prc')\n",
    "    pd.Series(tableAS[2], name='F1')\n",
    "    pd.Series(tableAS[3], name='Avg')\n",
    "    final = pd.concat([pd.Series(tableAS[0], name='Acc'),\n",
    "                      pd.Series(tableAS[1], name='Prc'),\n",
    "                      pd.Series(tableAS[2], name='F1'),\n",
    "                      pd.Series(tableAS[3], name='Avg')\n",
    "                      ], axis=1)\n",
    "    return final"
   ]
  },
  {
   "cell_type": "code",
   "execution_count": 6,
   "metadata": {},
   "outputs": [],
   "source": [
    "def multiBarChart(table):\n",
    "    fig, ax = plt.subplots()\n",
    "    metrics = ['acc', 'prc', 'f1', 'avg']\n",
    "    x=np.arange(len(metrics))\n",
    "    w=0.3\n",
    "    rect1 = ax.bar(x-w, table[0], w, label='trial 1')\n",
    "    rect2 = ax.bar(x-w/2, table[1], w, label='trial 2')\n",
    "    rect3 = ax.bar(x, table[2], w, label='trial 3')\n",
    "    rect4 = ax.bar(x+w/2, table[3], w, label='trial 4')\n",
    "    rect5 = ax.bar(x+w, table[3], w, label='trial 5')\n",
    "    ax.set_xticks(x)\n",
    "    ax.set_xticklabels(metrics)"
   ]
  },
  {
   "cell_type": "code",
   "execution_count": 7,
   "metadata": {},
   "outputs": [
    {
     "data": {
      "text/html": [
       "<div>\n",
       "<style scoped>\n",
       "    .dataframe tbody tr th:only-of-type {\n",
       "        vertical-align: middle;\n",
       "    }\n",
       "\n",
       "    .dataframe tbody tr th {\n",
       "        vertical-align: top;\n",
       "    }\n",
       "\n",
       "    .dataframe thead th {\n",
       "        text-align: right;\n",
       "    }\n",
       "</style>\n",
       "<table border=\"1\" class=\"dataframe\">\n",
       "  <thead>\n",
       "    <tr style=\"text-align: right;\">\n",
       "      <th></th>\n",
       "      <th>-1.23</th>\n",
       "      <th>-1.56</th>\n",
       "      <th>-1.75</th>\n",
       "      <th>-0.28</th>\n",
       "      <th>0.60</th>\n",
       "      <th>2.22</th>\n",
       "      <th>0.85</th>\n",
       "      <th>0.21</th>\n",
       "      <th>-0.20</th>\n",
       "      <th>0.89</th>\n",
       "      <th>...</th>\n",
       "      <th>2.89</th>\n",
       "      <th>7.75</th>\n",
       "      <th>4.59</th>\n",
       "      <th>3.15</th>\n",
       "      <th>5.12</th>\n",
       "      <th>3.32</th>\n",
       "      <th>1.20</th>\n",
       "      <th>0.24</th>\n",
       "      <th>-0.56</th>\n",
       "      <th>2</th>\n",
       "    </tr>\n",
       "  </thead>\n",
       "  <tbody>\n",
       "    <tr>\n",
       "      <th>0</th>\n",
       "      <td>-0.69</td>\n",
       "      <td>2.43</td>\n",
       "      <td>0.61</td>\n",
       "      <td>2.08</td>\n",
       "      <td>2.30</td>\n",
       "      <td>3.25</td>\n",
       "      <td>5.52</td>\n",
       "      <td>4.55</td>\n",
       "      <td>2.97</td>\n",
       "      <td>2.22</td>\n",
       "      <td>...</td>\n",
       "      <td>1.24</td>\n",
       "      <td>1.89</td>\n",
       "      <td>1.88</td>\n",
       "      <td>-1.34</td>\n",
       "      <td>0.83</td>\n",
       "      <td>1.41</td>\n",
       "      <td>1.78</td>\n",
       "      <td>0.60</td>\n",
       "      <td>2.42</td>\n",
       "      <td>1</td>\n",
       "    </tr>\n",
       "    <tr>\n",
       "      <th>1</th>\n",
       "      <td>-0.12</td>\n",
       "      <td>-0.94</td>\n",
       "      <td>1.29</td>\n",
       "      <td>2.59</td>\n",
       "      <td>2.42</td>\n",
       "      <td>3.55</td>\n",
       "      <td>4.94</td>\n",
       "      <td>3.25</td>\n",
       "      <td>1.90</td>\n",
       "      <td>2.07</td>\n",
       "      <td>...</td>\n",
       "      <td>2.50</td>\n",
       "      <td>0.12</td>\n",
       "      <td>1.41</td>\n",
       "      <td>2.78</td>\n",
       "      <td>0.64</td>\n",
       "      <td>0.62</td>\n",
       "      <td>-0.01</td>\n",
       "      <td>-0.79</td>\n",
       "      <td>-0.12</td>\n",
       "      <td>0</td>\n",
       "    </tr>\n",
       "    <tr>\n",
       "      <th>2</th>\n",
       "      <td>0.86</td>\n",
       "      <td>0.29</td>\n",
       "      <td>2.19</td>\n",
       "      <td>-0.02</td>\n",
       "      <td>1.13</td>\n",
       "      <td>2.51</td>\n",
       "      <td>2.37</td>\n",
       "      <td>5.45</td>\n",
       "      <td>5.45</td>\n",
       "      <td>4.84</td>\n",
       "      <td>...</td>\n",
       "      <td>2.58</td>\n",
       "      <td>1.40</td>\n",
       "      <td>1.24</td>\n",
       "      <td>1.41</td>\n",
       "      <td>1.07</td>\n",
       "      <td>-1.43</td>\n",
       "      <td>2.84</td>\n",
       "      <td>-1.18</td>\n",
       "      <td>1.12</td>\n",
       "      <td>1</td>\n",
       "    </tr>\n",
       "    <tr>\n",
       "      <th>3</th>\n",
       "      <td>1.16</td>\n",
       "      <td>0.37</td>\n",
       "      <td>0.40</td>\n",
       "      <td>-0.59</td>\n",
       "      <td>2.66</td>\n",
       "      <td>1.00</td>\n",
       "      <td>2.69</td>\n",
       "      <td>4.06</td>\n",
       "      <td>5.34</td>\n",
       "      <td>3.53</td>\n",
       "      <td>...</td>\n",
       "      <td>4.30</td>\n",
       "      <td>1.84</td>\n",
       "      <td>1.73</td>\n",
       "      <td>0.21</td>\n",
       "      <td>-0.18</td>\n",
       "      <td>0.13</td>\n",
       "      <td>-0.21</td>\n",
       "      <td>-0.80</td>\n",
       "      <td>-0.68</td>\n",
       "      <td>1</td>\n",
       "    </tr>\n",
       "    <tr>\n",
       "      <th>4</th>\n",
       "      <td>-0.00</td>\n",
       "      <td>0.77</td>\n",
       "      <td>1.32</td>\n",
       "      <td>0.29</td>\n",
       "      <td>-1.28</td>\n",
       "      <td>0.84</td>\n",
       "      <td>1.60</td>\n",
       "      <td>1.55</td>\n",
       "      <td>2.93</td>\n",
       "      <td>4.76</td>\n",
       "      <td>...</td>\n",
       "      <td>4.89</td>\n",
       "      <td>2.81</td>\n",
       "      <td>2.37</td>\n",
       "      <td>3.68</td>\n",
       "      <td>-0.98</td>\n",
       "      <td>0.69</td>\n",
       "      <td>0.91</td>\n",
       "      <td>-1.80</td>\n",
       "      <td>0.39</td>\n",
       "      <td>2</td>\n",
       "    </tr>\n",
       "  </tbody>\n",
       "</table>\n",
       "<p>5 rows × 22 columns</p>\n",
       "</div>"
      ],
      "text/plain": [
       "   -1.23  -1.56  -1.75  -0.28  0.60  2.22  0.85  0.21  -0.20  0.89  ...  2.89  \\\n",
       "0  -0.69   2.43   0.61   2.08  2.30  3.25  5.52  4.55   2.97  2.22  ...  1.24   \n",
       "1  -0.12  -0.94   1.29   2.59  2.42  3.55  4.94  3.25   1.90  2.07  ...  2.50   \n",
       "2   0.86   0.29   2.19  -0.02  1.13  2.51  2.37  5.45   5.45  4.84  ...  2.58   \n",
       "3   1.16   0.37   0.40  -0.59  2.66  1.00  2.69  4.06   5.34  3.53  ...  4.30   \n",
       "4  -0.00   0.77   1.32   0.29 -1.28  0.84  1.60  1.55   2.93  4.76  ...  4.89   \n",
       "\n",
       "   7.75  4.59  3.15  5.12  3.32  1.20  0.24  -0.56  2  \n",
       "0  1.89  1.88 -1.34  0.83  1.41  1.78  0.60   2.42  1  \n",
       "1  0.12  1.41  2.78  0.64  0.62 -0.01 -0.79  -0.12  0  \n",
       "2  1.40  1.24  1.41  1.07 -1.43  2.84 -1.18   1.12  1  \n",
       "3  1.84  1.73  0.21 -0.18  0.13 -0.21 -0.80  -0.68  1  \n",
       "4  2.81  2.37  3.68 -0.98  0.69  0.91 -1.80   0.39  2  \n",
       "\n",
       "[5 rows x 22 columns]"
      ]
     },
     "execution_count": 7,
     "metadata": {},
     "output_type": "execute_result"
    }
   ],
   "source": [
    "data1 = pd.read_csv('waveform.data', header='infer')\n",
    "data1_features = data1.drop('2', axis=1)\n",
    "data1.head()"
   ]
  },
  {
   "cell_type": "code",
   "execution_count": 8,
   "metadata": {},
   "outputs": [
    {
     "data": {
      "text/html": [
       "<div>\n",
       "<style scoped>\n",
       "    .dataframe tbody tr th:only-of-type {\n",
       "        vertical-align: middle;\n",
       "    }\n",
       "\n",
       "    .dataframe tbody tr th {\n",
       "        vertical-align: top;\n",
       "    }\n",
       "\n",
       "    .dataframe thead th {\n",
       "        text-align: right;\n",
       "    }\n",
       "</style>\n",
       "<table border=\"1\" class=\"dataframe\">\n",
       "  <thead>\n",
       "    <tr style=\"text-align: right;\">\n",
       "      <th></th>\n",
       "      <th>A11 6 A34 A43 1169 A65 A75 4 A93 A101 4 A121 67 A143 A152 2 A173 1 A192 A201 1</th>\n",
       "    </tr>\n",
       "  </thead>\n",
       "  <tbody>\n",
       "    <tr>\n",
       "      <th>0</th>\n",
       "      <td>A12 48 A32 A43 5951 A61 A73 2 A92 A101 2 A121 ...</td>\n",
       "    </tr>\n",
       "    <tr>\n",
       "      <th>1</th>\n",
       "      <td>A14 12 A34 A46 2096 A61 A74 2 A93 A101 3 A121 ...</td>\n",
       "    </tr>\n",
       "    <tr>\n",
       "      <th>2</th>\n",
       "      <td>A11 42 A32 A42 7882 A61 A74 2 A93 A103 4 A122 ...</td>\n",
       "    </tr>\n",
       "    <tr>\n",
       "      <th>3</th>\n",
       "      <td>A11 24 A33 A40 4870 A61 A73 3 A93 A101 4 A124 ...</td>\n",
       "    </tr>\n",
       "    <tr>\n",
       "      <th>4</th>\n",
       "      <td>A14 36 A32 A46 9055 A65 A73 2 A93 A101 4 A124 ...</td>\n",
       "    </tr>\n",
       "  </tbody>\n",
       "</table>\n",
       "</div>"
      ],
      "text/plain": [
       "  A11 6 A34 A43 1169 A65 A75 4 A93 A101 4 A121 67 A143 A152 2 A173 1 A192 A201 1\n",
       "0  A12 48 A32 A43 5951 A61 A73 2 A92 A101 2 A121 ...                            \n",
       "1  A14 12 A34 A46 2096 A61 A74 2 A93 A101 3 A121 ...                            \n",
       "2  A11 42 A32 A42 7882 A61 A74 2 A93 A103 4 A122 ...                            \n",
       "3  A11 24 A33 A40 4870 A61 A73 3 A93 A101 4 A124 ...                            \n",
       "4  A14 36 A32 A46 9055 A65 A73 2 A93 A101 4 A124 ...                            "
      ]
     },
     "execution_count": 8,
     "metadata": {},
     "output_type": "execute_result"
    }
   ],
   "source": [
    "data2 = pd.read_csv('german.data', header='infer')\n",
    "data2.head()"
   ]
  },
  {
   "cell_type": "markdown",
   "metadata": {},
   "source": [
    "## Part1"
   ]
  },
  {
   "cell_type": "markdown",
   "metadata": {},
   "source": [
    "### Holdout"
   ]
  },
  {
   "cell_type": "code",
   "execution_count": 10,
   "metadata": {},
   "outputs": [
    {
     "name": "stdout",
     "output_type": "stream",
     "text": [
      "[[0.752, 0.751491337275651, 0.7512783676936294, 0.7515899016564268], [0.754, 0.7533638307393963, 0.7535728160728161, 0.7536455489374041], [0.792, 0.792558708362605, 0.7916517735179767, 0.7920701606268605], [0.766, 0.7664766698744048, 0.7660141399511512, 0.7661636032751854], [0.8, 0.7990627843494086, 0.798978102087021, 0.7993469621454765]]\n"
     ]
    }
   ],
   "source": [
    "table = []\n",
    "for i in range(0,5):\n",
    "    x_train, x_test, y_train, y_test = train_test_split(data1_features, data1['2'], test_size=0.10, shuffle=True)\n",
    "    table.append(makeTreeClfEntropy(x_train, y_train, x_test, y_test))\n",
    "print(table)"
   ]
  },
  {
   "cell_type": "code",
   "execution_count": 11,
   "metadata": {},
   "outputs": [
    {
     "data": {
      "text/html": [
       "<div>\n",
       "<style scoped>\n",
       "    .dataframe tbody tr th:only-of-type {\n",
       "        vertical-align: middle;\n",
       "    }\n",
       "\n",
       "    .dataframe tbody tr th {\n",
       "        vertical-align: top;\n",
       "    }\n",
       "\n",
       "    .dataframe thead th {\n",
       "        text-align: right;\n",
       "    }\n",
       "</style>\n",
       "<table border=\"1\" class=\"dataframe\">\n",
       "  <thead>\n",
       "    <tr style=\"text-align: right;\">\n",
       "      <th></th>\n",
       "      <th>Acc</th>\n",
       "      <th>Prc</th>\n",
       "      <th>F1</th>\n",
       "      <th>Avg</th>\n",
       "    </tr>\n",
       "  </thead>\n",
       "  <tbody>\n",
       "    <tr>\n",
       "      <th>0</th>\n",
       "      <td>0.752</td>\n",
       "      <td>0.751491</td>\n",
       "      <td>0.751278</td>\n",
       "      <td>0.751590</td>\n",
       "    </tr>\n",
       "    <tr>\n",
       "      <th>1</th>\n",
       "      <td>0.754</td>\n",
       "      <td>0.753364</td>\n",
       "      <td>0.753573</td>\n",
       "      <td>0.753646</td>\n",
       "    </tr>\n",
       "    <tr>\n",
       "      <th>2</th>\n",
       "      <td>0.792</td>\n",
       "      <td>0.792559</td>\n",
       "      <td>0.791652</td>\n",
       "      <td>0.792070</td>\n",
       "    </tr>\n",
       "    <tr>\n",
       "      <th>3</th>\n",
       "      <td>0.766</td>\n",
       "      <td>0.766477</td>\n",
       "      <td>0.766014</td>\n",
       "      <td>0.766164</td>\n",
       "    </tr>\n",
       "    <tr>\n",
       "      <th>4</th>\n",
       "      <td>0.800</td>\n",
       "      <td>0.799063</td>\n",
       "      <td>0.798978</td>\n",
       "      <td>0.799347</td>\n",
       "    </tr>\n",
       "  </tbody>\n",
       "</table>\n",
       "</div>"
      ],
      "text/plain": [
       "     Acc       Prc        F1       Avg\n",
       "0  0.752  0.751491  0.751278  0.751590\n",
       "1  0.754  0.753364  0.753573  0.753646\n",
       "2  0.792  0.792559  0.791652  0.792070\n",
       "3  0.766  0.766477  0.766014  0.766164\n",
       "4  0.800  0.799063  0.798978  0.799347"
      ]
     },
     "execution_count": 11,
     "metadata": {},
     "output_type": "execute_result"
    }
   ],
   "source": [
    "makeTable(table)"
   ]
  },
  {
   "cell_type": "code",
   "execution_count": 12,
   "metadata": {},
   "outputs": [
    {
     "data": {
      "image/png": "[encoded data removed]",
      "text/plain": [
       "<Figure size 432x288 with 1 Axes>"
      ]
     },
     "metadata": {
      "needs_background": "light"
     },
     "output_type": "display_data"
    }
   ],
   "source": [
    "multiBarChart(table)"
   ]
  },
  {
   "cell_type": "markdown",
   "metadata": {},
   "source": [
    "### Cross Validation"
   ]
  },
  {
   "cell_type": "code",
   "execution_count": 99,
   "metadata": {},
   "outputs": [],
   "source": [
    "clf = DecisionTreeClassifier()\n",
    "scoring = ['accuracy', 'precision_macro', 'f1_macro']\n",
    "scores =  cross_validate(clf, data1.drop(['2'],axis=1), data1['2'], cv=10, scoring=scoring)"
   ]
  },
  {
   "cell_type": "code",
   "execution_count": 100,
   "metadata": {},
   "outputs": [
    {
     "data": {
      "text/plain": [
       "array([0.77844311, 0.76447106, 0.78243513, 0.77045908, 0.76646707,\n",
       "       0.736     , 0.764     , 0.75100402, 0.73895582, 0.76907631])"
      ]
     },
     "execution_count": 100,
     "metadata": {},
     "output_type": "execute_result"
    }
   ],
   "source": [
    "x = np.array([])\n",
    "for v in scores.values():\n",
    "    x = np.concatenate([x, v])\n",
    "x = x.reshape(5,10)\n",
    "x = x[2:]\n",
    "x[0]"
   ]
  },
  {
   "cell_type": "code",
   "execution_count": 101,
   "metadata": {},
   "outputs": [
    {
     "data": {
      "text/html": [
       "<div>\n",
       "<style scoped>\n",
       "    .dataframe tbody tr th:only-of-type {\n",
       "        vertical-align: middle;\n",
       "    }\n",
       "\n",
       "    .dataframe tbody tr th {\n",
       "        vertical-align: top;\n",
       "    }\n",
       "\n",
       "    .dataframe thead th {\n",
       "        text-align: right;\n",
       "    }\n",
       "</style>\n",
       "<table border=\"1\" class=\"dataframe\">\n",
       "  <thead>\n",
       "    <tr style=\"text-align: right;\">\n",
       "      <th></th>\n",
       "      <th>Acc</th>\n",
       "      <th>Prc</th>\n",
       "      <th>F1</th>\n",
       "      <th>Avg</th>\n",
       "    </tr>\n",
       "  </thead>\n",
       "  <tbody>\n",
       "    <tr>\n",
       "      <th>0</th>\n",
       "      <td>0.778443</td>\n",
       "      <td>0.778638</td>\n",
       "      <td>0.778390</td>\n",
       "      <td>0.778490</td>\n",
       "    </tr>\n",
       "    <tr>\n",
       "      <th>1</th>\n",
       "      <td>0.764471</td>\n",
       "      <td>0.764815</td>\n",
       "      <td>0.764313</td>\n",
       "      <td>0.764533</td>\n",
       "    </tr>\n",
       "    <tr>\n",
       "      <th>2</th>\n",
       "      <td>0.782435</td>\n",
       "      <td>0.781977</td>\n",
       "      <td>0.781769</td>\n",
       "      <td>0.782060</td>\n",
       "    </tr>\n",
       "    <tr>\n",
       "      <th>3</th>\n",
       "      <td>0.770459</td>\n",
       "      <td>0.769869</td>\n",
       "      <td>0.769955</td>\n",
       "      <td>0.770094</td>\n",
       "    </tr>\n",
       "    <tr>\n",
       "      <th>4</th>\n",
       "      <td>0.766467</td>\n",
       "      <td>0.766399</td>\n",
       "      <td>0.766329</td>\n",
       "      <td>0.766398</td>\n",
       "    </tr>\n",
       "    <tr>\n",
       "      <th>5</th>\n",
       "      <td>0.736000</td>\n",
       "      <td>0.735393</td>\n",
       "      <td>0.735407</td>\n",
       "      <td>0.735600</td>\n",
       "    </tr>\n",
       "    <tr>\n",
       "      <th>6</th>\n",
       "      <td>0.764000</td>\n",
       "      <td>0.765913</td>\n",
       "      <td>0.763852</td>\n",
       "      <td>0.764588</td>\n",
       "    </tr>\n",
       "    <tr>\n",
       "      <th>7</th>\n",
       "      <td>0.751004</td>\n",
       "      <td>0.752199</td>\n",
       "      <td>0.751121</td>\n",
       "      <td>0.751441</td>\n",
       "    </tr>\n",
       "    <tr>\n",
       "      <th>8</th>\n",
       "      <td>0.738956</td>\n",
       "      <td>0.742203</td>\n",
       "      <td>0.739586</td>\n",
       "      <td>0.740248</td>\n",
       "    </tr>\n",
       "    <tr>\n",
       "      <th>9</th>\n",
       "      <td>0.769076</td>\n",
       "      <td>0.769005</td>\n",
       "      <td>0.768956</td>\n",
       "      <td>0.769012</td>\n",
       "    </tr>\n",
       "  </tbody>\n",
       "</table>\n",
       "</div>"
      ],
      "text/plain": [
       "        Acc       Prc        F1       Avg\n",
       "0  0.778443  0.778638  0.778390  0.778490\n",
       "1  0.764471  0.764815  0.764313  0.764533\n",
       "2  0.782435  0.781977  0.781769  0.782060\n",
       "3  0.770459  0.769869  0.769955  0.770094\n",
       "4  0.766467  0.766399  0.766329  0.766398\n",
       "5  0.736000  0.735393  0.735407  0.735600\n",
       "6  0.764000  0.765913  0.763852  0.764588\n",
       "7  0.751004  0.752199  0.751121  0.751441\n",
       "8  0.738956  0.742203  0.739586  0.740248\n",
       "9  0.769076  0.769005  0.768956  0.769012"
      ]
     },
     "execution_count": 101,
     "metadata": {},
     "output_type": "execute_result"
    }
   ],
   "source": [
    "avg=[]\n",
    "for i in range(10):\n",
    "    a= (x[0][i]+x[1][i]+x[2][i])/3\n",
    "    avg = avg+[a]\n",
    "avg = np.asarray(avg)\n",
    "x = np.vstack([x,avg])\n",
    "x=x.transpose()\n",
    "makeTable(x)"
   ]
  },
  {
   "cell_type": "code",
   "execution_count": 102,
   "metadata": {},
   "outputs": [
    {
     "data": {
      "image/png": "[encoded data removed]",
      "text/plain": [
       "<Figure size 432x288 with 1 Axes>"
      ]
     },
     "metadata": {
      "needs_background": "light"
     },
     "output_type": "display_data"
    }
   ],
   "source": [
    "multiBarChart(x)"
   ]
  },
  {
   "cell_type": "markdown",
   "metadata": {},
   "source": [
    "## Part 2"
   ]
  },
  {
   "cell_type": "markdown",
   "metadata": {},
   "source": [
    "### Holdout"
   ]
  },
  {
   "cell_type": "code",
   "execution_count": 103,
   "metadata": {},
   "outputs": [
    {
     "name": "stdout",
     "output_type": "stream",
     "text": [
      "[[0.782, 0.7819661881057162, 0.782241430399778, 0.7820692061684981], [0.752, 0.750720620842572, 0.7508215066449218, 0.7511807091624979], [0.772, 0.772895875727886, 0.771982040399703, 0.7722926387091964], [0.74, 0.740064318615886, 0.7388811686481223, 0.7396484957546695], [0.788, 0.78827760714573, 0.7880561768614865, 0.7881112613357389]]\n"
     ]
    }
   ],
   "source": [
    "table = []\n",
    "for i in range(0,5):\n",
    "    x_train, x_test, y_train, y_test = train_test_split(data1_features, data1['2'], test_size=0.10, shuffle=True)\n",
    "    table.append(makeTreeClfEntropy(x_train, y_train, x_test, y_test))\n",
    "print(table)"
   ]
  },
  {
   "cell_type": "code",
   "execution_count": 104,
   "metadata": {},
   "outputs": [
    {
     "data": {
      "text/html": [
       "<div>\n",
       "<style scoped>\n",
       "    .dataframe tbody tr th:only-of-type {\n",
       "        vertical-align: middle;\n",
       "    }\n",
       "\n",
       "    .dataframe tbody tr th {\n",
       "        vertical-align: top;\n",
       "    }\n",
       "\n",
       "    .dataframe thead th {\n",
       "        text-align: right;\n",
       "    }\n",
       "</style>\n",
       "<table border=\"1\" class=\"dataframe\">\n",
       "  <thead>\n",
       "    <tr style=\"text-align: right;\">\n",
       "      <th></th>\n",
       "      <th>Acc</th>\n",
       "      <th>Prc</th>\n",
       "      <th>F1</th>\n",
       "      <th>Avg</th>\n",
       "    </tr>\n",
       "  </thead>\n",
       "  <tbody>\n",
       "    <tr>\n",
       "      <th>0</th>\n",
       "      <td>0.782</td>\n",
       "      <td>0.781966</td>\n",
       "      <td>0.782241</td>\n",
       "      <td>0.782069</td>\n",
       "    </tr>\n",
       "    <tr>\n",
       "      <th>1</th>\n",
       "      <td>0.752</td>\n",
       "      <td>0.750721</td>\n",
       "      <td>0.750822</td>\n",
       "      <td>0.751181</td>\n",
       "    </tr>\n",
       "    <tr>\n",
       "      <th>2</th>\n",
       "      <td>0.772</td>\n",
       "      <td>0.772896</td>\n",
       "      <td>0.771982</td>\n",
       "      <td>0.772293</td>\n",
       "    </tr>\n",
       "    <tr>\n",
       "      <th>3</th>\n",
       "      <td>0.740</td>\n",
       "      <td>0.740064</td>\n",
       "      <td>0.738881</td>\n",
       "      <td>0.739648</td>\n",
       "    </tr>\n",
       "    <tr>\n",
       "      <th>4</th>\n",
       "      <td>0.788</td>\n",
       "      <td>0.788278</td>\n",
       "      <td>0.788056</td>\n",
       "      <td>0.788111</td>\n",
       "    </tr>\n",
       "  </tbody>\n",
       "</table>\n",
       "</div>"
      ],
      "text/plain": [
       "     Acc       Prc        F1       Avg\n",
       "0  0.782  0.781966  0.782241  0.782069\n",
       "1  0.752  0.750721  0.750822  0.751181\n",
       "2  0.772  0.772896  0.771982  0.772293\n",
       "3  0.740  0.740064  0.738881  0.739648\n",
       "4  0.788  0.788278  0.788056  0.788111"
      ]
     },
     "execution_count": 104,
     "metadata": {},
     "output_type": "execute_result"
    }
   ],
   "source": [
    "makeTable(table)"
   ]
  },
  {
   "cell_type": "code",
   "execution_count": 105,
   "metadata": {},
   "outputs": [
    {
     "data": {
      "image/png": "[encoded data removed]",
      "text/plain": [
       "<Figure size 432x288 with 1 Axes>"
      ]
     },
     "metadata": {
      "needs_background": "light"
     },
     "output_type": "display_data"
    }
   ],
   "source": [
    "multiBarChart(table)"
   ]
  },
  {
   "cell_type": "markdown",
   "metadata": {},
   "source": [
    "### Cross Validation k=10"
   ]
  },
  {
   "cell_type": "code",
   "execution_count": 106,
   "metadata": {},
   "outputs": [],
   "source": [
    "clfE = DecisionTreeClassifier(criterion='entropy')\n",
    "scoresE =  cross_validate(clf, data1.drop(['2'],axis=1), data1['2'], cv=10, scoring=scoring)"
   ]
  },
  {
   "cell_type": "code",
   "execution_count": 107,
   "metadata": {},
   "outputs": [
    {
     "data": {
      "text/html": [
       "<div>\n",
       "<style scoped>\n",
       "    .dataframe tbody tr th:only-of-type {\n",
       "        vertical-align: middle;\n",
       "    }\n",
       "\n",
       "    .dataframe tbody tr th {\n",
       "        vertical-align: top;\n",
       "    }\n",
       "\n",
       "    .dataframe thead th {\n",
       "        text-align: right;\n",
       "    }\n",
       "</style>\n",
       "<table border=\"1\" class=\"dataframe\">\n",
       "  <thead>\n",
       "    <tr style=\"text-align: right;\">\n",
       "      <th></th>\n",
       "      <th>Acc</th>\n",
       "      <th>Prc</th>\n",
       "      <th>F1</th>\n",
       "      <th>Avg</th>\n",
       "    </tr>\n",
       "  </thead>\n",
       "  <tbody>\n",
       "    <tr>\n",
       "      <th>0</th>\n",
       "      <td>0.778443</td>\n",
       "      <td>0.779245</td>\n",
       "      <td>0.778511</td>\n",
       "      <td>0.778733</td>\n",
       "    </tr>\n",
       "    <tr>\n",
       "      <th>1</th>\n",
       "      <td>0.768463</td>\n",
       "      <td>0.770246</td>\n",
       "      <td>0.768377</td>\n",
       "      <td>0.769029</td>\n",
       "    </tr>\n",
       "    <tr>\n",
       "      <th>2</th>\n",
       "      <td>0.776447</td>\n",
       "      <td>0.776121</td>\n",
       "      <td>0.776143</td>\n",
       "      <td>0.776237</td>\n",
       "    </tr>\n",
       "    <tr>\n",
       "      <th>3</th>\n",
       "      <td>0.754491</td>\n",
       "      <td>0.753509</td>\n",
       "      <td>0.753564</td>\n",
       "      <td>0.753855</td>\n",
       "    </tr>\n",
       "    <tr>\n",
       "      <th>4</th>\n",
       "      <td>0.758483</td>\n",
       "      <td>0.759395</td>\n",
       "      <td>0.758666</td>\n",
       "      <td>0.758848</td>\n",
       "    </tr>\n",
       "    <tr>\n",
       "      <th>5</th>\n",
       "      <td>0.740000</td>\n",
       "      <td>0.739609</td>\n",
       "      <td>0.739644</td>\n",
       "      <td>0.739751</td>\n",
       "    </tr>\n",
       "    <tr>\n",
       "      <th>6</th>\n",
       "      <td>0.746000</td>\n",
       "      <td>0.748661</td>\n",
       "      <td>0.746164</td>\n",
       "      <td>0.746941</td>\n",
       "    </tr>\n",
       "    <tr>\n",
       "      <th>7</th>\n",
       "      <td>0.748996</td>\n",
       "      <td>0.750350</td>\n",
       "      <td>0.749211</td>\n",
       "      <td>0.749519</td>\n",
       "    </tr>\n",
       "    <tr>\n",
       "      <th>8</th>\n",
       "      <td>0.736948</td>\n",
       "      <td>0.737434</td>\n",
       "      <td>0.737050</td>\n",
       "      <td>0.737144</td>\n",
       "    </tr>\n",
       "    <tr>\n",
       "      <th>9</th>\n",
       "      <td>0.751004</td>\n",
       "      <td>0.751935</td>\n",
       "      <td>0.751122</td>\n",
       "      <td>0.751354</td>\n",
       "    </tr>\n",
       "  </tbody>\n",
       "</table>\n",
       "</div>"
      ],
      "text/plain": [
       "        Acc       Prc        F1       Avg\n",
       "0  0.778443  0.779245  0.778511  0.778733\n",
       "1  0.768463  0.770246  0.768377  0.769029\n",
       "2  0.776447  0.776121  0.776143  0.776237\n",
       "3  0.754491  0.753509  0.753564  0.753855\n",
       "4  0.758483  0.759395  0.758666  0.758848\n",
       "5  0.740000  0.739609  0.739644  0.739751\n",
       "6  0.746000  0.748661  0.746164  0.746941\n",
       "7  0.748996  0.750350  0.749211  0.749519\n",
       "8  0.736948  0.737434  0.737050  0.737144\n",
       "9  0.751004  0.751935  0.751122  0.751354"
      ]
     },
     "execution_count": 107,
     "metadata": {},
     "output_type": "execute_result"
    }
   ],
   "source": [
    "xE = np.array([])\n",
    "for v in scoresE.values():\n",
    "    xE = np.concatenate([xE, v])\n",
    "xE = xE.reshape(5,10)\n",
    "xE = xE[2:]\n",
    "avgE=[]\n",
    "for i in range(10):\n",
    "    a = (xE[0][i]+xE[1][i]+xE[2][i])/3\n",
    "    avgE = avgE+[a]\n",
    "avgE = np.asarray(avgE)\n",
    "xE = np.vstack([xE,avgE])\n",
    "xE=xE.transpose()\n",
    "makeTable(xE)"
   ]
  },
  {
   "cell_type": "code",
   "execution_count": 108,
   "metadata": {},
   "outputs": [
    {
     "data": {
      "image/png": "[encoded data removed]",
      "text/plain": [
       "<Figure size 432x288 with 1 Axes>"
      ]
     },
     "metadata": {
      "needs_background": "light"
     },
     "output_type": "display_data"
    }
   ],
   "source": [
    "multiBarChart(xE)"
   ]
  },
  {
   "cell_type": "code",
   "execution_count": 109,
   "metadata": {},
   "outputs": [
    {
     "data": {
      "image/png": "[encoded data removed]",
      "text/plain": [
       "<Figure size 432x288 with 1 Axes>"
      ]
     },
     "metadata": {
      "needs_background": "light"
     },
     "output_type": "display_data"
    }
   ],
   "source": [
    "plt.plot(np.transpose(x)[-1], color='red', marker='*', label='default')\n",
    "plt.plot(np.transpose(xE)[-1], color='green', marker='+', label='entropy')\n",
    "plt.xlabel('trial')\n",
    "plt.ylabel('avg')\n",
    "plt.title('entropy vs default')\n",
    "plt.legend()\n",
    "plt.show()"
   ]
  },
  {
   "cell_type": "code",
   "execution_count": 110,
   "metadata": {},
   "outputs": [
    {
     "data": {
      "image/png": "[encoded data removed]",
      "text/plain": [
       "<Figure size 432x288 with 1 Axes>"
      ]
     },
     "metadata": {
      "needs_background": "light"
     },
     "output_type": "display_data"
    }
   ],
   "source": [
    "plt.bar(np.linspace(0,10,10)+.35/2,np.transpose(x)[-1],width=0.35, color='blue', label='default')\n",
    "plt.bar(np.linspace(0,10,10)-.35/2,np.transpose(xE)[-1], width=0.35, color='orange', label='entropy')\n",
    "plt.xlabel('trial')\n",
    "plt.ylabel('avg')\n",
    "plt.title('entropy vs default')\n",
    "plt.legend()\n",
    "plt.show()"
   ]
  },
  {
   "cell_type": "markdown",
   "metadata": {},
   "source": [
    "## Part 3"
   ]
  },
  {
   "cell_type": "code",
   "execution_count": 13,
   "metadata": {},
   "outputs": [
    {
     "data": {
      "text/plain": [
       "Text(0, 0.5, 'Accuracy')"
      ]
     },
     "execution_count": 13,
     "metadata": {},
     "output_type": "execute_result"
    },
    {
     "data": {
      "image/png": "[encoded data removed]",
      "text/plain": [
       "<Figure size 432x288 with 1 Axes>"
      ]
     },
     "metadata": {
      "needs_background": "light"
     },
     "output_type": "display_data"
    }
   ],
   "source": [
    "X_train, X_test, Y_train, Y_test = train_test_split(data1_features, data1['2'], test_size=0.10, shuffle=True)\n",
    "\n",
    "maxdepths = [2,5,8,10,15,20,25,30,35,40,45,50]\n",
    "trainAcc = np.zeros(len(maxdepths))\n",
    "testAcc = np.zeros(len(maxdepths))\n",
    "\n",
    "index = 0\n",
    "for depth in maxdepths:\n",
    "    clf = DecisionTreeClassifier(max_depth=depth)\n",
    "    clf = clf.fit(X_train, Y_train)\n",
    "    Y_predTrain = clf.predict(X_train)\n",
    "    Y_predTest = clf.predict(X_test)\n",
    "    trainAcc[index] = sm.accuracy_score(Y_train, Y_predTrain)\n",
    "    testAcc[index] = sm.accuracy_score(Y_test, Y_predTest)\n",
    "    index += 1\n",
    "    \n",
    "plt.plot(maxdepths,trainAcc,'ro-',maxdepths,testAcc,'bv--')\n",
    "plt.legend(['Training Accuracy','Test Accuracy'])\n",
    "plt.xlabel('Max depth')\n",
    "plt.ylabel('Accuracy')"
   ]
  },
  {
   "cell_type": "markdown",
   "metadata": {},
   "source": [
    "This is an overfitting problem, the model becomes to complex (in this case too deep) and performs poorly in the test data, as opposed to the training data. The tree peaks at arond 6-7 node depth, a tree any deeper is specializing the model to classify the training data specifically."
   ]
  },
  {
   "cell_type": "code",
   "execution_count": null,
   "metadata": {},
   "outputs": [],
   "source": []
  }
 ],
 "metadata": {
  "kernelspec": {
   "display_name": "Python 3",
   "language": "python",
   "name": "python3"
  },
  "language_info": {
   "codemirror_mode": {
    "name": "ipython",
    "version": 3
   },
   "file_extension": ".py",
   "mimetype": "text/x-python",
   "name": "python",
   "nbconvert_exporter": "python",
   "pygments_lexer": "ipython3",
   "version": "3.8.3"
  }
 },
 "nbformat": 4,
 "nbformat_minor": 2
}
