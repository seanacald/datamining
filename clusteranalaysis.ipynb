{
 "cells": [
  {
   "cell_type": "code",
   "execution_count": 1,
   "metadata": {},
   "outputs": [],
   "source": [
    "#imports for the lab\n",
    "import pandas as pd\n",
    "from sklearn import cluster\n",
    "from sklearn import metrics\n",
    "import matplotlib.pyplot as plt\n"
   ]
  },
  {
   "cell_type": "code",
   "execution_count": 2,
   "metadata": {},
   "outputs": [
    {
     "data": {
      "text/html": [
       "<div>\n",
       "<style scoped>\n",
       "    .dataframe tbody tr th:only-of-type {\n",
       "        vertical-align: middle;\n",
       "    }\n",
       "\n",
       "    .dataframe tbody tr th {\n",
       "        vertical-align: top;\n",
       "    }\n",
       "\n",
       "    .dataframe thead th {\n",
       "        text-align: right;\n",
       "    }\n",
       "</style>\n",
       "<table border=\"1\" class=\"dataframe\">\n",
       "  <thead>\n",
       "    <tr style=\"text-align: right;\">\n",
       "      <th></th>\n",
       "      <th>1</th>\n",
       "      <th>2</th>\n",
       "      <th>3</th>\n",
       "      <th>4</th>\n",
       "      <th>5</th>\n",
       "      <th>6</th>\n",
       "      <th>7</th>\n",
       "      <th>8</th>\n",
       "      <th>9</th>\n",
       "      <th>10</th>\n",
       "      <th>...</th>\n",
       "      <th>12</th>\n",
       "      <th>13</th>\n",
       "      <th>14</th>\n",
       "      <th>15</th>\n",
       "      <th>16</th>\n",
       "      <th>17</th>\n",
       "      <th>18</th>\n",
       "      <th>19</th>\n",
       "      <th>20</th>\n",
       "      <th>21</th>\n",
       "    </tr>\n",
       "  </thead>\n",
       "  <tbody>\n",
       "    <tr>\n",
       "      <th>0</th>\n",
       "      <td>-1.23</td>\n",
       "      <td>-1.56</td>\n",
       "      <td>-1.75</td>\n",
       "      <td>-0.28</td>\n",
       "      <td>0.60</td>\n",
       "      <td>2.22</td>\n",
       "      <td>0.85</td>\n",
       "      <td>0.21</td>\n",
       "      <td>-0.20</td>\n",
       "      <td>0.89</td>\n",
       "      <td>...</td>\n",
       "      <td>4.20</td>\n",
       "      <td>2.89</td>\n",
       "      <td>7.75</td>\n",
       "      <td>4.59</td>\n",
       "      <td>3.15</td>\n",
       "      <td>5.12</td>\n",
       "      <td>3.32</td>\n",
       "      <td>1.20</td>\n",
       "      <td>0.24</td>\n",
       "      <td>-0.56</td>\n",
       "    </tr>\n",
       "    <tr>\n",
       "      <th>1</th>\n",
       "      <td>-0.69</td>\n",
       "      <td>2.43</td>\n",
       "      <td>0.61</td>\n",
       "      <td>2.08</td>\n",
       "      <td>2.30</td>\n",
       "      <td>3.25</td>\n",
       "      <td>5.52</td>\n",
       "      <td>4.55</td>\n",
       "      <td>2.97</td>\n",
       "      <td>2.22</td>\n",
       "      <td>...</td>\n",
       "      <td>1.61</td>\n",
       "      <td>1.24</td>\n",
       "      <td>1.89</td>\n",
       "      <td>1.88</td>\n",
       "      <td>-1.34</td>\n",
       "      <td>0.83</td>\n",
       "      <td>1.41</td>\n",
       "      <td>1.78</td>\n",
       "      <td>0.60</td>\n",
       "      <td>2.42</td>\n",
       "    </tr>\n",
       "    <tr>\n",
       "      <th>2</th>\n",
       "      <td>-0.12</td>\n",
       "      <td>-0.94</td>\n",
       "      <td>1.29</td>\n",
       "      <td>2.59</td>\n",
       "      <td>2.42</td>\n",
       "      <td>3.55</td>\n",
       "      <td>4.94</td>\n",
       "      <td>3.25</td>\n",
       "      <td>1.90</td>\n",
       "      <td>2.07</td>\n",
       "      <td>...</td>\n",
       "      <td>1.45</td>\n",
       "      <td>2.50</td>\n",
       "      <td>0.12</td>\n",
       "      <td>1.41</td>\n",
       "      <td>2.78</td>\n",
       "      <td>0.64</td>\n",
       "      <td>0.62</td>\n",
       "      <td>-0.01</td>\n",
       "      <td>-0.79</td>\n",
       "      <td>-0.12</td>\n",
       "    </tr>\n",
       "    <tr>\n",
       "      <th>3</th>\n",
       "      <td>0.86</td>\n",
       "      <td>0.29</td>\n",
       "      <td>2.19</td>\n",
       "      <td>-0.02</td>\n",
       "      <td>1.13</td>\n",
       "      <td>2.51</td>\n",
       "      <td>2.37</td>\n",
       "      <td>5.45</td>\n",
       "      <td>5.45</td>\n",
       "      <td>4.84</td>\n",
       "      <td>...</td>\n",
       "      <td>4.05</td>\n",
       "      <td>2.58</td>\n",
       "      <td>1.40</td>\n",
       "      <td>1.24</td>\n",
       "      <td>1.41</td>\n",
       "      <td>1.07</td>\n",
       "      <td>-1.43</td>\n",
       "      <td>2.84</td>\n",
       "      <td>-1.18</td>\n",
       "      <td>1.12</td>\n",
       "    </tr>\n",
       "    <tr>\n",
       "      <th>4</th>\n",
       "      <td>1.16</td>\n",
       "      <td>0.37</td>\n",
       "      <td>0.40</td>\n",
       "      <td>-0.59</td>\n",
       "      <td>2.66</td>\n",
       "      <td>1.00</td>\n",
       "      <td>2.69</td>\n",
       "      <td>4.06</td>\n",
       "      <td>5.34</td>\n",
       "      <td>3.53</td>\n",
       "      <td>...</td>\n",
       "      <td>4.79</td>\n",
       "      <td>4.30</td>\n",
       "      <td>1.84</td>\n",
       "      <td>1.73</td>\n",
       "      <td>0.21</td>\n",
       "      <td>-0.18</td>\n",
       "      <td>0.13</td>\n",
       "      <td>-0.21</td>\n",
       "      <td>-0.80</td>\n",
       "      <td>-0.68</td>\n",
       "    </tr>\n",
       "    <tr>\n",
       "      <th>...</th>\n",
       "      <td>...</td>\n",
       "      <td>...</td>\n",
       "      <td>...</td>\n",
       "      <td>...</td>\n",
       "      <td>...</td>\n",
       "      <td>...</td>\n",
       "      <td>...</td>\n",
       "      <td>...</td>\n",
       "      <td>...</td>\n",
       "      <td>...</td>\n",
       "      <td>...</td>\n",
       "      <td>...</td>\n",
       "      <td>...</td>\n",
       "      <td>...</td>\n",
       "      <td>...</td>\n",
       "      <td>...</td>\n",
       "      <td>...</td>\n",
       "      <td>...</td>\n",
       "      <td>...</td>\n",
       "      <td>...</td>\n",
       "      <td>...</td>\n",
       "    </tr>\n",
       "    <tr>\n",
       "      <th>4995</th>\n",
       "      <td>-0.65</td>\n",
       "      <td>0.69</td>\n",
       "      <td>2.29</td>\n",
       "      <td>-0.16</td>\n",
       "      <td>0.51</td>\n",
       "      <td>0.26</td>\n",
       "      <td>2.34</td>\n",
       "      <td>-0.42</td>\n",
       "      <td>0.49</td>\n",
       "      <td>0.31</td>\n",
       "      <td>...</td>\n",
       "      <td>4.54</td>\n",
       "      <td>3.46</td>\n",
       "      <td>4.81</td>\n",
       "      <td>5.49</td>\n",
       "      <td>5.19</td>\n",
       "      <td>3.10</td>\n",
       "      <td>3.86</td>\n",
       "      <td>2.96</td>\n",
       "      <td>1.09</td>\n",
       "      <td>-1.42</td>\n",
       "    </tr>\n",
       "    <tr>\n",
       "      <th>4996</th>\n",
       "      <td>-0.02</td>\n",
       "      <td>0.67</td>\n",
       "      <td>2.34</td>\n",
       "      <td>3.18</td>\n",
       "      <td>2.16</td>\n",
       "      <td>4.77</td>\n",
       "      <td>6.70</td>\n",
       "      <td>4.54</td>\n",
       "      <td>4.92</td>\n",
       "      <td>3.39</td>\n",
       "      <td>...</td>\n",
       "      <td>1.50</td>\n",
       "      <td>1.53</td>\n",
       "      <td>2.52</td>\n",
       "      <td>1.14</td>\n",
       "      <td>-1.56</td>\n",
       "      <td>-1.18</td>\n",
       "      <td>-0.56</td>\n",
       "      <td>0.02</td>\n",
       "      <td>-1.05</td>\n",
       "      <td>-0.18</td>\n",
       "    </tr>\n",
       "    <tr>\n",
       "      <th>4997</th>\n",
       "      <td>0.01</td>\n",
       "      <td>-1.99</td>\n",
       "      <td>0.16</td>\n",
       "      <td>2.30</td>\n",
       "      <td>-0.53</td>\n",
       "      <td>1.93</td>\n",
       "      <td>3.61</td>\n",
       "      <td>3.00</td>\n",
       "      <td>4.61</td>\n",
       "      <td>5.73</td>\n",
       "      <td>...</td>\n",
       "      <td>4.25</td>\n",
       "      <td>3.14</td>\n",
       "      <td>3.04</td>\n",
       "      <td>1.61</td>\n",
       "      <td>0.60</td>\n",
       "      <td>-0.52</td>\n",
       "      <td>0.62</td>\n",
       "      <td>1.00</td>\n",
       "      <td>1.21</td>\n",
       "      <td>-0.27</td>\n",
       "    </tr>\n",
       "    <tr>\n",
       "      <th>4998</th>\n",
       "      <td>-0.40</td>\n",
       "      <td>0.41</td>\n",
       "      <td>-0.48</td>\n",
       "      <td>1.04</td>\n",
       "      <td>0.79</td>\n",
       "      <td>-0.66</td>\n",
       "      <td>1.18</td>\n",
       "      <td>0.52</td>\n",
       "      <td>2.20</td>\n",
       "      <td>0.59</td>\n",
       "      <td>...</td>\n",
       "      <td>4.85</td>\n",
       "      <td>3.64</td>\n",
       "      <td>3.62</td>\n",
       "      <td>5.97</td>\n",
       "      <td>2.63</td>\n",
       "      <td>3.83</td>\n",
       "      <td>1.72</td>\n",
       "      <td>2.08</td>\n",
       "      <td>1.31</td>\n",
       "      <td>1.37</td>\n",
       "    </tr>\n",
       "    <tr>\n",
       "      <th>4999</th>\n",
       "      <td>0.63</td>\n",
       "      <td>-0.07</td>\n",
       "      <td>2.71</td>\n",
       "      <td>2.55</td>\n",
       "      <td>3.36</td>\n",
       "      <td>3.22</td>\n",
       "      <td>3.69</td>\n",
       "      <td>4.67</td>\n",
       "      <td>3.45</td>\n",
       "      <td>3.87</td>\n",
       "      <td>...</td>\n",
       "      <td>1.46</td>\n",
       "      <td>-0.52</td>\n",
       "      <td>1.90</td>\n",
       "      <td>0.88</td>\n",
       "      <td>3.15</td>\n",
       "      <td>1.27</td>\n",
       "      <td>-0.53</td>\n",
       "      <td>0.09</td>\n",
       "      <td>0.01</td>\n",
       "      <td>0.60</td>\n",
       "    </tr>\n",
       "  </tbody>\n",
       "</table>\n",
       "<p>5000 rows × 21 columns</p>\n",
       "</div>"
      ],
      "text/plain": [
       "         1     2     3     4     5     6     7     8     9    10  ...    12  \\\n",
       "0    -1.23 -1.56 -1.75 -0.28  0.60  2.22  0.85  0.21 -0.20  0.89  ...  4.20   \n",
       "1    -0.69  2.43  0.61  2.08  2.30  3.25  5.52  4.55  2.97  2.22  ...  1.61   \n",
       "2    -0.12 -0.94  1.29  2.59  2.42  3.55  4.94  3.25  1.90  2.07  ...  1.45   \n",
       "3     0.86  0.29  2.19 -0.02  1.13  2.51  2.37  5.45  5.45  4.84  ...  4.05   \n",
       "4     1.16  0.37  0.40 -0.59  2.66  1.00  2.69  4.06  5.34  3.53  ...  4.79   \n",
       "...    ...   ...   ...   ...   ...   ...   ...   ...   ...   ...  ...   ...   \n",
       "4995 -0.65  0.69  2.29 -0.16  0.51  0.26  2.34 -0.42  0.49  0.31  ...  4.54   \n",
       "4996 -0.02  0.67  2.34  3.18  2.16  4.77  6.70  4.54  4.92  3.39  ...  1.50   \n",
       "4997  0.01 -1.99  0.16  2.30 -0.53  1.93  3.61  3.00  4.61  5.73  ...  4.25   \n",
       "4998 -0.40  0.41 -0.48  1.04  0.79 -0.66  1.18  0.52  2.20  0.59  ...  4.85   \n",
       "4999  0.63 -0.07  2.71  2.55  3.36  3.22  3.69  4.67  3.45  3.87  ...  1.46   \n",
       "\n",
       "        13    14    15    16    17    18    19    20    21  \n",
       "0     2.89  7.75  4.59  3.15  5.12  3.32  1.20  0.24 -0.56  \n",
       "1     1.24  1.89  1.88 -1.34  0.83  1.41  1.78  0.60  2.42  \n",
       "2     2.50  0.12  1.41  2.78  0.64  0.62 -0.01 -0.79 -0.12  \n",
       "3     2.58  1.40  1.24  1.41  1.07 -1.43  2.84 -1.18  1.12  \n",
       "4     4.30  1.84  1.73  0.21 -0.18  0.13 -0.21 -0.80 -0.68  \n",
       "...    ...   ...   ...   ...   ...   ...   ...   ...   ...  \n",
       "4995  3.46  4.81  5.49  5.19  3.10  3.86  2.96  1.09 -1.42  \n",
       "4996  1.53  2.52  1.14 -1.56 -1.18 -0.56  0.02 -1.05 -0.18  \n",
       "4997  3.14  3.04  1.61  0.60 -0.52  0.62  1.00  1.21 -0.27  \n",
       "4998  3.64  3.62  5.97  2.63  3.83  1.72  2.08  1.31  1.37  \n",
       "4999 -0.52  1.90  0.88  3.15  1.27 -0.53  0.09  0.01  0.60  \n",
       "\n",
       "[5000 rows x 21 columns]"
      ]
     },
     "execution_count": 2,
     "metadata": {},
     "output_type": "execute_result"
    }
   ],
   "source": [
    "#pre proccessing for Wave data\n",
    "waveColumns=['1','2','3','4','5','6','7','8','9','10','11','12','13','14','15','16','17','18','19','20', '21','Class'] \n",
    "waveData = pd.read_csv('waveform.data', names=waveColumns)\n",
    "waveData = waveData.drop(['Class'], axis=1)\n",
    "waveData"
   ]
  },
  {
   "cell_type": "code",
   "execution_count": 3,
   "metadata": {
    "scrolled": true
   },
   "outputs": [
    {
     "data": {
      "text/html": [
       "<div>\n",
       "<style scoped>\n",
       "    .dataframe tbody tr th:only-of-type {\n",
       "        vertical-align: middle;\n",
       "    }\n",
       "\n",
       "    .dataframe tbody tr th {\n",
       "        vertical-align: top;\n",
       "    }\n",
       "\n",
       "    .dataframe thead th {\n",
       "        text-align: right;\n",
       "    }\n",
       "</style>\n",
       "<table border=\"1\" class=\"dataframe\">\n",
       "  <thead>\n",
       "    <tr style=\"text-align: right;\">\n",
       "      <th></th>\n",
       "      <th>1</th>\n",
       "      <th>2</th>\n",
       "      <th>3</th>\n",
       "      <th>4</th>\n",
       "      <th>5</th>\n",
       "      <th>6</th>\n",
       "      <th>7</th>\n",
       "      <th>8</th>\n",
       "      <th>9</th>\n",
       "    </tr>\n",
       "  </thead>\n",
       "  <tbody>\n",
       "    <tr>\n",
       "      <th>0</th>\n",
       "      <td>5</td>\n",
       "      <td>1</td>\n",
       "      <td>1</td>\n",
       "      <td>1</td>\n",
       "      <td>2</td>\n",
       "      <td>1.0</td>\n",
       "      <td>3</td>\n",
       "      <td>1</td>\n",
       "      <td>1</td>\n",
       "    </tr>\n",
       "    <tr>\n",
       "      <th>1</th>\n",
       "      <td>5</td>\n",
       "      <td>4</td>\n",
       "      <td>4</td>\n",
       "      <td>5</td>\n",
       "      <td>7</td>\n",
       "      <td>10.0</td>\n",
       "      <td>3</td>\n",
       "      <td>2</td>\n",
       "      <td>1</td>\n",
       "    </tr>\n",
       "    <tr>\n",
       "      <th>2</th>\n",
       "      <td>3</td>\n",
       "      <td>1</td>\n",
       "      <td>1</td>\n",
       "      <td>1</td>\n",
       "      <td>2</td>\n",
       "      <td>2.0</td>\n",
       "      <td>3</td>\n",
       "      <td>1</td>\n",
       "      <td>1</td>\n",
       "    </tr>\n",
       "    <tr>\n",
       "      <th>3</th>\n",
       "      <td>6</td>\n",
       "      <td>8</td>\n",
       "      <td>8</td>\n",
       "      <td>1</td>\n",
       "      <td>3</td>\n",
       "      <td>4.0</td>\n",
       "      <td>3</td>\n",
       "      <td>7</td>\n",
       "      <td>1</td>\n",
       "    </tr>\n",
       "    <tr>\n",
       "      <th>4</th>\n",
       "      <td>4</td>\n",
       "      <td>1</td>\n",
       "      <td>1</td>\n",
       "      <td>3</td>\n",
       "      <td>2</td>\n",
       "      <td>1.0</td>\n",
       "      <td>3</td>\n",
       "      <td>1</td>\n",
       "      <td>1</td>\n",
       "    </tr>\n",
       "    <tr>\n",
       "      <th>...</th>\n",
       "      <td>...</td>\n",
       "      <td>...</td>\n",
       "      <td>...</td>\n",
       "      <td>...</td>\n",
       "      <td>...</td>\n",
       "      <td>...</td>\n",
       "      <td>...</td>\n",
       "      <td>...</td>\n",
       "      <td>...</td>\n",
       "    </tr>\n",
       "    <tr>\n",
       "      <th>694</th>\n",
       "      <td>3</td>\n",
       "      <td>1</td>\n",
       "      <td>1</td>\n",
       "      <td>1</td>\n",
       "      <td>3</td>\n",
       "      <td>2.0</td>\n",
       "      <td>1</td>\n",
       "      <td>1</td>\n",
       "      <td>1</td>\n",
       "    </tr>\n",
       "    <tr>\n",
       "      <th>695</th>\n",
       "      <td>2</td>\n",
       "      <td>1</td>\n",
       "      <td>1</td>\n",
       "      <td>1</td>\n",
       "      <td>2</td>\n",
       "      <td>1.0</td>\n",
       "      <td>1</td>\n",
       "      <td>1</td>\n",
       "      <td>1</td>\n",
       "    </tr>\n",
       "    <tr>\n",
       "      <th>696</th>\n",
       "      <td>5</td>\n",
       "      <td>10</td>\n",
       "      <td>10</td>\n",
       "      <td>3</td>\n",
       "      <td>7</td>\n",
       "      <td>3.0</td>\n",
       "      <td>8</td>\n",
       "      <td>10</td>\n",
       "      <td>2</td>\n",
       "    </tr>\n",
       "    <tr>\n",
       "      <th>697</th>\n",
       "      <td>4</td>\n",
       "      <td>8</td>\n",
       "      <td>6</td>\n",
       "      <td>4</td>\n",
       "      <td>3</td>\n",
       "      <td>4.0</td>\n",
       "      <td>10</td>\n",
       "      <td>6</td>\n",
       "      <td>1</td>\n",
       "    </tr>\n",
       "    <tr>\n",
       "      <th>698</th>\n",
       "      <td>4</td>\n",
       "      <td>8</td>\n",
       "      <td>8</td>\n",
       "      <td>5</td>\n",
       "      <td>4</td>\n",
       "      <td>5.0</td>\n",
       "      <td>10</td>\n",
       "      <td>4</td>\n",
       "      <td>1</td>\n",
       "    </tr>\n",
       "  </tbody>\n",
       "</table>\n",
       "<p>699 rows × 9 columns</p>\n",
       "</div>"
      ],
      "text/plain": [
       "     1   2   3  4  5     6   7   8  9\n",
       "0    5   1   1  1  2   1.0   3   1  1\n",
       "1    5   4   4  5  7  10.0   3   2  1\n",
       "2    3   1   1  1  2   2.0   3   1  1\n",
       "3    6   8   8  1  3   4.0   3   7  1\n",
       "4    4   1   1  3  2   1.0   3   1  1\n",
       "..  ..  ..  .. .. ..   ...  ..  .. ..\n",
       "694  3   1   1  1  3   2.0   1   1  1\n",
       "695  2   1   1  1  2   1.0   1   1  1\n",
       "696  5  10  10  3  7   3.0   8  10  2\n",
       "697  4   8   6  4  3   4.0  10   6  1\n",
       "698  4   8   8  5  4   5.0  10   4  1\n",
       "\n",
       "[699 rows x 9 columns]"
      ]
     },
     "execution_count": 3,
     "metadata": {},
     "output_type": "execute_result"
    }
   ],
   "source": [
    "#pre proccessing for breast cancer data\n",
    "cancerColumns=['0','1','2','3','4','5','6','7','8','9','Class']\n",
    "missing_values = [\"?\"]\n",
    "cancerData = pd.read_csv('breast-cancer-wisconsin.data', names=cancerColumns, na_values = missing_values)\n",
    "cancerData =  cancerData.drop(['0'],axis=1)\n",
    "cancerData = cancerData.drop(['Class'], axis=1)\n",
    "cancerData\n",
    "\n",
    "#missing values in column 6 replaced with mean of the attribute\n",
    "avg = round(cancerData['6'].mean())\n",
    "cancerData.replace('NaN', avg, inplace=True)\n",
    "\n",
    "cancerData = cancerData.fillna(int(avg))\n",
    "cancerData\n"
   ]
  },
  {
   "cell_type": "markdown",
   "metadata": {},
   "source": [
    "## part 1\n"
   ]
  },
  {
   "cell_type": "markdown",
   "metadata": {},
   "source": [
    "waveData k means"
   ]
  },
  {
   "cell_type": "code",
   "execution_count": 4,
   "metadata": {},
   "outputs": [
    {
     "data": {
      "text/plain": [
       "Text(0, 0.5, 'SSE')"
      ]
     },
     "execution_count": 4,
     "metadata": {},
     "output_type": "execute_result"
    },
    {
     "data": {
      "image/png": "[encoded data removed]",
      "text/plain": [
       "<Figure size 432x288 with 1 Axes>"
      ]
     },
     "metadata": {
      "needs_background": "light"
     },
     "output_type": "display_data"
    }
   ],
   "source": [
    "numClusters = [2,3,4,5,6]\n",
    "SSE = []\n",
    "\n",
    "for i in numClusters:\n",
    "    k_means = cluster.KMeans(n_clusters=i, max_iter=50, random_state=1)\n",
    "    k_means.fit(waveData) \n",
    "    SSE.append(k_means.inertia_)\n",
    "\n",
    "    \n",
    "\n",
    "plt.plot(numClusters, SSE)\n",
    "plt.xlabel('Number of Clusters')\n",
    "plt.ylabel('SSE')"
   ]
  },
  {
   "cell_type": "markdown",
   "metadata": {},
   "source": [
    "The elbow method shows that the best number of clusters is 3"
   ]
  },
  {
   "cell_type": "markdown",
   "metadata": {},
   "source": [
    "## Cancer Data"
   ]
  },
  {
   "cell_type": "markdown",
   "metadata": {},
   "source": [
    "Cancer data k means"
   ]
  },
  {
   "cell_type": "code",
   "execution_count": 5,
   "metadata": {},
   "outputs": [
    {
     "data": {
      "text/plain": [
       "Text(0, 0.5, 'SSE')"
      ]
     },
     "execution_count": 5,
     "metadata": {},
     "output_type": "execute_result"
    },
    {
     "data": {
      "image/png": "[encoded data removed]",
      "text/plain": [
       "<Figure size 432x288 with 1 Axes>"
      ]
     },
     "metadata": {
      "needs_background": "light"
     },
     "output_type": "display_data"
    }
   ],
   "source": [
    "#cancerData\n",
    "%matplotlib inline\n",
    "\n",
    "numClusters = [2,3,4,5,6]\n",
    "SSE = []\n",
    "\n",
    "for i in numClusters:\n",
    "    #randomize the data\n",
    "    #randWaveData = shuffle(waveData)\n",
    "    k_means = cluster.KMeans(n_clusters=i, max_iter=50, random_state=1)\n",
    "    k_means.fit(cancerData) \n",
    "    SSE.append(k_means.inertia_)\n",
    "\n",
    "    \n",
    "plt.plot(numClusters, SSE)\n",
    "plt.xlabel('Number of Clusters')\n",
    "plt.ylabel('SSE')"
   ]
  },
  {
   "cell_type": "markdown",
   "metadata": {},
   "source": [
    "The elbow method shows that the best number of clusters is 3"
   ]
  },
  {
   "cell_type": "markdown",
   "metadata": {},
   "source": [
    "## Finding neartest points to cluster centers for each k value"
   ]
  },
  {
   "cell_type": "markdown",
   "metadata": {},
   "source": [
    "cancer data"
   ]
  },
  {
   "cell_type": "code",
   "execution_count": 6,
   "metadata": {},
   "outputs": [],
   "source": [
    "k_means = cluster.KMeans(n_clusters=2, max_iter=50, random_state=1)\n",
    "k_means.fit(cancerData) \n",
    "centroids = k_means.cluster_centers_"
   ]
  },
  {
   "cell_type": "code",
   "execution_count": 7,
   "metadata": {},
   "outputs": [
    {
     "data": {
      "text/html": [
       "<div>\n",
       "<style scoped>\n",
       "    .dataframe tbody tr th:only-of-type {\n",
       "        vertical-align: middle;\n",
       "    }\n",
       "\n",
       "    .dataframe tbody tr th {\n",
       "        vertical-align: top;\n",
       "    }\n",
       "\n",
       "    .dataframe thead th {\n",
       "        text-align: right;\n",
       "    }\n",
       "</style>\n",
       "<table border=\"1\" class=\"dataframe\">\n",
       "  <thead>\n",
       "    <tr style=\"text-align: right;\">\n",
       "      <th></th>\n",
       "      <th>1</th>\n",
       "      <th>2</th>\n",
       "      <th>3</th>\n",
       "      <th>4</th>\n",
       "      <th>5</th>\n",
       "      <th>6</th>\n",
       "      <th>7</th>\n",
       "      <th>8</th>\n",
       "      <th>9</th>\n",
       "    </tr>\n",
       "  </thead>\n",
       "  <tbody>\n",
       "    <tr>\n",
       "      <th>0</th>\n",
       "      <td>3.032328</td>\n",
       "      <td>1.295259</td>\n",
       "      <td>1.435345</td>\n",
       "      <td>1.338362</td>\n",
       "      <td>2.088362</td>\n",
       "      <td>1.375000</td>\n",
       "      <td>2.092672</td>\n",
       "      <td>1.247845</td>\n",
       "      <td>1.109914</td>\n",
       "    </tr>\n",
       "    <tr>\n",
       "      <th>1</th>\n",
       "      <td>7.153191</td>\n",
       "      <td>6.765957</td>\n",
       "      <td>6.706383</td>\n",
       "      <td>5.706383</td>\n",
       "      <td>5.442553</td>\n",
       "      <td>7.859574</td>\n",
       "      <td>6.093617</td>\n",
       "      <td>6.063830</td>\n",
       "      <td>2.536170</td>\n",
       "    </tr>\n",
       "  </tbody>\n",
       "</table>\n",
       "</div>"
      ],
      "text/plain": [
       "          1         2         3         4         5         6         7  \\\n",
       "0  3.032328  1.295259  1.435345  1.338362  2.088362  1.375000  2.092672   \n",
       "1  7.153191  6.765957  6.706383  5.706383  5.442553  7.859574  6.093617   \n",
       "\n",
       "          8         9  \n",
       "0  1.247845  1.109914  \n",
       "1  6.063830  2.536170  "
      ]
     },
     "execution_count": 7,
     "metadata": {},
     "output_type": "execute_result"
    }
   ],
   "source": [
    "centData = pd.DataFrame(centroids,columns=cancerData.columns)\n",
    "centData"
   ]
  },
  {
   "cell_type": "code",
   "execution_count": 8,
   "metadata": {},
   "outputs": [
    {
     "name": "stdout",
     "output_type": "stream",
     "text": [
      "k =  2\n",
      "cluster number:  0\n",
      "[22, 198, 197, 196, 195]\n",
      "cluster number:  1\n",
      "[467, 200, 230, 229, 228]\n"
     ]
    }
   ],
   "source": [
    "k = 2\n",
    "print(\"k = \", k)\n",
    "#2d array that holds closest 5 points to each cluster center, points represented by the index of their row in the data frame\n",
    "\n",
    "#2d array that holds the 5 closest for each cluster for k = 2 shape should be 2 rows 5 columns\n",
    "closest = []\n",
    "\n",
    "\n",
    "for centerNum in range(k):\n",
    "    #sets x to the row from centData\n",
    "    X = centData.iloc[[centerNum]]\n",
    "    Y = cancerData\n",
    "    closest5 = []\n",
    "    for i in range(5):\n",
    "        #metrics does it by kernel so find 5 points closest to first kernels center first then the does the second one\n",
    "        closestRow = metrics.pairwise_distances_argmin_min(X, Y, metric='euclidean')\n",
    "        #metrics function returns a 2d array where the [0][0] index is the index of the cancerData row that is closest\n",
    "        Y = Y.drop(closestRow[0][0])\n",
    "        closest5.append(closestRow[0][0])\n",
    "    \n",
    "    #append the list of 5 closest points to the overall list of closest 5 points to every cluster center\n",
    "    closest.append(closest5)\n",
    "    print(\"cluster number: \", centerNum)\n",
    "    print(closest[centerNum])"
   ]
  },
  {
   "cell_type": "code",
   "execution_count": 9,
   "metadata": {},
   "outputs": [
    {
     "name": "stdout",
     "output_type": "stream",
     "text": [
      "k =  3\n",
      "cluster number:  0\n",
      "[22, 198, 197, 196, 195]\n",
      "cluster number:  1\n",
      "[231, 316, 315, 314, 313]\n",
      "cluster number:  2\n",
      "[223, 338, 337, 336, 335]\n"
     ]
    }
   ],
   "source": [
    "k = 3\n",
    "print(\"k = \", k)\n",
    "\n",
    "k_means = cluster.KMeans(n_clusters=k, max_iter=50, random_state=1)\n",
    "k_means.fit(cancerData) \n",
    "centroids = k_means.cluster_centers_\n",
    "\n",
    "centData = pd.DataFrame(centroids,columns=cancerData.columns)\n",
    "centData = centData\n",
    "centData\n",
    "\n",
    "#2d array that holds the 5 closest for each cluster for k = 2 shape should be 2 rows 5 columns\n",
    "closest = []\n",
    "\n",
    "\n",
    "for centerNum in range(k):\n",
    "    #sets x to the row from centData\n",
    "    X = centData.iloc[[centerNum]]\n",
    "    Y = cancerData\n",
    "    closest5 = []\n",
    "    for i in range(5):\n",
    "        #metrics does it by kernel so find 5 points closest to first kernels center first then the does the second one\n",
    "        closestRow = metrics.pairwise_distances_argmin_min(X, Y, metric='euclidean')\n",
    "        #metrics function returns a 2d array where the [0][0] index is the index of the cancerData row that is closest\n",
    "        Y = Y.drop(closestRow[0][0])\n",
    "        closest5.append(closestRow[0][0])\n",
    "    \n",
    "    #append the list of 5 closest points to the overall list of closest 5 points to every cluster center\n",
    "    closest.append(closest5)\n",
    "    print(\"cluster number: \", centerNum)\n",
    "    print(closest[centerNum])"
   ]
  },
  {
   "cell_type": "code",
   "execution_count": 10,
   "metadata": {},
   "outputs": [
    {
     "name": "stdout",
     "output_type": "stream",
     "text": [
      "k =  4\n",
      "cluster number:  0\n",
      "[22, 198, 197, 196, 195]\n",
      "cluster number:  1\n",
      "[317, 183, 230, 229, 228]\n",
      "cluster number:  2\n",
      "[339, 223, 332, 331, 330]\n",
      "cluster number:  3\n",
      "[308, 632, 631, 630, 629]\n"
     ]
    }
   ],
   "source": [
    "k = 4\n",
    "print(\"k = \", k)\n",
    "k_means = cluster.KMeans(n_clusters=k, max_iter=50, random_state=1)\n",
    "k_means.fit(cancerData) \n",
    "centroids = k_means.cluster_centers_\n",
    "\n",
    "centData = pd.DataFrame(centroids,columns=cancerData.columns)\n",
    "centData = centData\n",
    "centData\n",
    "\n",
    "#2d array that holds the 5 closest for each cluster for k = 2 shape should be 2 rows 5 columns\n",
    "closest = []\n",
    "\n",
    "\n",
    "for centerNum in range(k):\n",
    "    #sets x to the row from centData\n",
    "    X = centData.iloc[[centerNum]]\n",
    "    Y = cancerData\n",
    "    closest5 = []\n",
    "    for i in range(5):\n",
    "        #metrics does it by kernel so find 5 points closest to first kernels center first then the does the second one\n",
    "        closestRow = metrics.pairwise_distances_argmin_min(X, Y, metric='euclidean')\n",
    "        #metrics function returns a 2d array where the [0][0] index is the index of the cancerData row that is closest\n",
    "        Y = Y.drop(closestRow[0][0])\n",
    "        closest5.append(closestRow[0][0])\n",
    "    \n",
    "    #append the list of 5 closest points to the overall list of closest 5 points to every cluster center\n",
    "    closest.append(closest5)\n",
    "    print(\"cluster number: \", centerNum)\n",
    "    print(closest[centerNum])"
   ]
  },
  {
   "cell_type": "code",
   "execution_count": 11,
   "metadata": {},
   "outputs": [
    {
     "name": "stdout",
     "output_type": "stream",
     "text": [
      "k =  5\n",
      "cluster number:  0\n",
      "[332, 579, 578, 577, 576]\n",
      "cluster number:  1\n",
      "[339, 223, 465, 464, 463]\n",
      "cluster number:  2\n",
      "[317, 183, 204, 203, 202]\n",
      "cluster number:  3\n",
      "[11, 27, 26, 25, 24]\n",
      "cluster number:  4\n",
      "[308, 215, 236, 235, 234]\n"
     ]
    }
   ],
   "source": [
    "k = 5\n",
    "print(\"k = \", k)\n",
    "\n",
    "k_means = cluster.KMeans(n_clusters=k, max_iter=50, random_state=1)\n",
    "k_means.fit(cancerData) \n",
    "centroids = k_means.cluster_centers_\n",
    "\n",
    "centData = pd.DataFrame(centroids,columns=cancerData.columns)\n",
    "centData = centData\n",
    "centData\n",
    "\n",
    "#2d array that holds the 5 closest for each cluster for k = 2 shape should be 2 rows 5 columns\n",
    "closest = []\n",
    "\n",
    "\n",
    "for centerNum in range(k):\n",
    "    #sets x to the row from centData\n",
    "    X = centData.iloc[[centerNum]]\n",
    "    Y = cancerData\n",
    "    closest5 = []\n",
    "    for i in range(5):\n",
    "        #metrics does it by kernel so find 5 points closest to first kernels center first then the does the second one\n",
    "        closestRow = metrics.pairwise_distances_argmin_min(X, Y, metric='euclidean')\n",
    "        #metrics function returns a 2d array where the [0][0] index is the index of the cancerData row that is closest\n",
    "        Y = Y.drop(closestRow[0][0])\n",
    "        closest5.append(closestRow[0][0])\n",
    "    \n",
    "    #append the list of 5 closest points to the overall list of closest 5 points to every cluster center\n",
    "    closest.append(closest5)\n",
    "    print(\"cluster number: \", centerNum)\n",
    "    print(closest[centerNum])"
   ]
  },
  {
   "cell_type": "code",
   "execution_count": 12,
   "metadata": {},
   "outputs": [
    {
     "name": "stdout",
     "output_type": "stream",
     "text": [
      "k =  6\n",
      "cluster number:  0\n",
      "[332, 579, 578, 577, 576]\n",
      "cluster number:  1\n",
      "[339, 223, 332, 331, 330]\n",
      "cluster number:  2\n",
      "[367, 317, 205, 183, 445]\n",
      "cluster number:  3\n",
      "[11, 27, 26, 25, 24]\n",
      "cluster number:  4\n",
      "[633, 427, 237, 215, 306]\n",
      "cluster number:  5\n",
      "[434, 657, 656, 655, 654]\n"
     ]
    }
   ],
   "source": [
    "k = 6\n",
    "print(\"k = \", k)\n",
    "k_means = cluster.KMeans(n_clusters=k, max_iter=50, random_state=1)\n",
    "k_means.fit(cancerData) \n",
    "centroids = k_means.cluster_centers_\n",
    "\n",
    "centData = pd.DataFrame(centroids,columns=cancerData.columns)\n",
    "centData = centData\n",
    "centData\n",
    "\n",
    "#2d array that holds the 5 closest for each cluster for k = 2 shape should be 2 rows 5 columns\n",
    "closest = []\n",
    "\n",
    "\n",
    "for centerNum in range(k):\n",
    "    #sets x to the row from centData\n",
    "    X = centData.iloc[[centerNum]]\n",
    "    Y = cancerData\n",
    "    closest5 = []\n",
    "    for i in range(5):\n",
    "        #metrics does it by kernel so find 5 points closest to first kernels center first then the does the second one\n",
    "        closestRow = metrics.pairwise_distances_argmin_min(X, Y, metric='euclidean')\n",
    "        #metrics function returns a 2d array where the [0][0] index is the index of the cancerData row that is closest\n",
    "        Y = Y.drop(closestRow[0][0])\n",
    "        closest5.append(closestRow[0][0])\n",
    "    \n",
    "    #append the list of 5 closest points to the overall list of closest 5 points to every cluster center\n",
    "    closest.append(closest5)\n",
    "    print(\"cluster number: \", centerNum)\n",
    "    print(closest[centerNum])"
   ]
  },
  {
   "cell_type": "markdown",
   "metadata": {},
   "source": [
    "## Wave Data "
   ]
  },
  {
   "cell_type": "code",
   "execution_count": 13,
   "metadata": {},
   "outputs": [
    {
     "name": "stdout",
     "output_type": "stream",
     "text": [
      "k =  2\n",
      "cluster number:  0\n",
      "[1563, 4796, 4795, 4794, 4793]\n",
      "cluster number:  1\n",
      "[4275, 176, 2793, 2792, 2791]\n"
     ]
    }
   ],
   "source": [
    "k = 2\n",
    "print(\"k = \", k)\n",
    "k_means = cluster.KMeans(n_clusters=k, max_iter=50, random_state=1)\n",
    "k_means.fit(waveData) \n",
    "centroids = k_means.cluster_centers_\n",
    "\n",
    "centData = pd.DataFrame(centroids,columns=waveData.columns)\n",
    "centData = centData\n",
    "centData\n",
    "\n",
    "#2d array that holds the 5 closest for each cluster for k = 2 shape should be 2 rows 5 columns\n",
    "closest = []\n",
    "\n",
    "\n",
    "for centerNum in range(k):\n",
    "    #sets x to the row from centData\n",
    "    X = centData.iloc[[centerNum]]\n",
    "    Y = waveData\n",
    "    closest5 = []\n",
    "    for i in range(5):\n",
    "        #metrics does it by kernel so find 5 points closest to first kernels center first then the does the second one\n",
    "        closestRow = metrics.pairwise_distances_argmin_min(X, Y, metric='euclidean')\n",
    "        #metrics function returns a 2d array where the [0][0] index is the index of the cancerData row that is closest\n",
    "        Y = Y.drop(closestRow[0][0])\n",
    "        closest5.append(closestRow[0][0])\n",
    "    \n",
    "    #append the list of 5 closest points to the overall list of closest 5 points to every cluster center\n",
    "    closest.append(closest5)\n",
    "    print(\"cluster number: \", centerNum)\n",
    "    print(closest[centerNum])"
   ]
  },
  {
   "cell_type": "code",
   "execution_count": 14,
   "metadata": {},
   "outputs": [
    {
     "name": "stdout",
     "output_type": "stream",
     "text": [
      "k =  3\n",
      "cluster number:  0\n",
      "[4107, 1936, 1072, 2105, 2104]\n",
      "cluster number:  1\n",
      "[2467, 4784, 4783, 4782, 4781]\n",
      "cluster number:  2\n",
      "[4275, 3582, 4886, 4885, 4884]\n"
     ]
    }
   ],
   "source": [
    "k = 3\n",
    "print(\"k = \", k)\n",
    "k_means = cluster.KMeans(n_clusters=k, max_iter=50, random_state=1)\n",
    "k_means.fit(waveData) \n",
    "centroids = k_means.cluster_centers_\n",
    "\n",
    "centData = pd.DataFrame(centroids,columns=waveData.columns)\n",
    "centData = centData\n",
    "centData\n",
    "\n",
    "#2d array that holds the 5 closest for each cluster for k = 2 shape should be 2 rows 5 columns\n",
    "closest = []\n",
    "\n",
    "\n",
    "for centerNum in range(k):\n",
    "    #sets x to the row from centData\n",
    "    X = centData.iloc[[centerNum]]\n",
    "    Y = waveData\n",
    "    closest5 = []\n",
    "    for i in range(5):\n",
    "        #metrics does it by kernel so find 5 points closest to first kernels center first then the does the second one\n",
    "        closestRow = metrics.pairwise_distances_argmin_min(X, Y, metric='euclidean')\n",
    "        #metrics function returns a 2d array where the [0][0] index is the index of the cancerData row that is closest\n",
    "        Y = Y.drop(closestRow[0][0])\n",
    "        closest5.append(closestRow[0][0])\n",
    "    \n",
    "    #append the list of 5 closest points to the overall list of closest 5 points to every cluster center\n",
    "    closest.append(closest5)\n",
    "    print(\"cluster number: \", centerNum)\n",
    "    print(closest[centerNum])"
   ]
  },
  {
   "cell_type": "code",
   "execution_count": 15,
   "metadata": {},
   "outputs": [
    {
     "name": "stdout",
     "output_type": "stream",
     "text": [
      "k =  4\n",
      "cluster number:  0\n",
      "[1852, 4887, 4886, 4885, 4884]\n",
      "cluster number:  1\n",
      "[1072, 1935, 1934, 1933, 1932]\n",
      "cluster number:  2\n",
      "[2467, 4784, 4783, 4782, 4781]\n",
      "cluster number:  3\n",
      "[3410, 605, 1493, 1492, 1491]\n"
     ]
    }
   ],
   "source": [
    "k = 4\n",
    "print(\"k = \", k)\n",
    "k_means = cluster.KMeans(n_clusters=k, max_iter=50, random_state=1)\n",
    "k_means.fit(waveData) \n",
    "centroids = k_means.cluster_centers_\n",
    "\n",
    "centData = pd.DataFrame(centroids,columns=waveData.columns)\n",
    "centData = centData\n",
    "centData\n",
    "\n",
    "#2d array that holds the 5 closest for each cluster for k = 2 shape should be 2 rows 5 columns\n",
    "closest = []\n",
    "\n",
    "\n",
    "for centerNum in range(k):\n",
    "    #sets x to the row from centData\n",
    "    X = centData.iloc[[centerNum]]\n",
    "    Y = waveData\n",
    "    closest5 = []\n",
    "    for i in range(5):\n",
    "        #metrics does it by kernel so find 5 points closest to first kernels center first then the does the second one\n",
    "        closestRow = metrics.pairwise_distances_argmin_min(X, Y, metric='euclidean')\n",
    "        #metrics function returns a 2d array where the [0][0] index is the index of the cancerData row that is closest\n",
    "        Y = Y.drop(closestRow[0][0])\n",
    "        closest5.append(closestRow[0][0])\n",
    "    \n",
    "    #append the list of 5 closest points to the overall list of closest 5 points to every cluster center\n",
    "    closest.append(closest5)\n",
    "    print(\"cluster number: \", centerNum)\n",
    "    print(closest[centerNum])"
   ]
  },
  {
   "cell_type": "code",
   "execution_count": 16,
   "metadata": {},
   "outputs": [
    {
     "name": "stdout",
     "output_type": "stream",
     "text": [
      "k =  5\n",
      "cluster number:  0\n",
      "[1563, 880, 3936, 3935, 3934]\n",
      "cluster number:  1\n",
      "[1852, 4887, 4886, 4885, 4884]\n",
      "cluster number:  2\n",
      "[4042, 4784, 4783, 4782, 4781]\n",
      "cluster number:  3\n",
      "[3410, 3586, 3585, 3584, 3583]\n",
      "cluster number:  4\n",
      "[1072, 1935, 1934, 1933, 1932]\n"
     ]
    }
   ],
   "source": [
    "k = 5\n",
    "print(\"k = \", k)\n",
    "k_means = cluster.KMeans(n_clusters=k, max_iter=50, random_state=1)\n",
    "k_means.fit(waveData) \n",
    "centroids = k_means.cluster_centers_\n",
    "\n",
    "centData = pd.DataFrame(centroids,columns=waveData.columns)\n",
    "centData = centData\n",
    "centData\n",
    "\n",
    "#2d array that holds the 5 closest for each cluster for k = 2 shape should be 2 rows 5 columns\n",
    "closest = []\n",
    "\n",
    "\n",
    "for centerNum in range(k):\n",
    "    #sets x to the row from centData\n",
    "    X = centData.iloc[[centerNum]]\n",
    "    Y = waveData\n",
    "    closest5 = []\n",
    "    for i in range(5):\n",
    "        #metrics does it by kernel so find 5 points closest to first kernels center first then the does the second one\n",
    "        closestRow = metrics.pairwise_distances_argmin_min(X, Y, metric='euclidean')\n",
    "        #metrics function returns a 2d array where the [0][0] index is the index of the cancerData row that is closest\n",
    "        Y = Y.drop(closestRow[0][0])\n",
    "        closest5.append(closestRow[0][0])\n",
    "    \n",
    "    #append the list of 5 closest points to the overall list of closest 5 points to every cluster center\n",
    "    closest.append(closest5)\n",
    "    print(\"cluster number: \", centerNum)\n",
    "    print(closest[centerNum])"
   ]
  },
  {
   "cell_type": "code",
   "execution_count": 17,
   "metadata": {},
   "outputs": [
    {
     "name": "stdout",
     "output_type": "stream",
     "text": [
      "k =  6\n",
      "cluster number:  0\n",
      "[3410, 3586, 3585, 3584, 3583]\n",
      "cluster number:  1\n",
      "[1072, 1935, 1934, 1933, 1932]\n",
      "cluster number:  2\n",
      "[2467, 3580, 3579, 3578, 3577]\n",
      "cluster number:  3\n",
      "[1852, 3329, 3328, 3327, 3326]\n",
      "cluster number:  4\n",
      "[1563, 880, 2205, 2204, 2203]\n",
      "cluster number:  5\n",
      "[24, 2536, 2535, 2534, 2533]\n"
     ]
    }
   ],
   "source": [
    "k = 6\n",
    "print(\"k = \", k)\n",
    "k_means = cluster.KMeans(n_clusters=k, max_iter=50, random_state=1)\n",
    "k_means.fit(waveData) \n",
    "centroids = k_means.cluster_centers_\n",
    "\n",
    "centData = pd.DataFrame(centroids,columns=waveData.columns)\n",
    "centData = centData\n",
    "centData\n",
    "\n",
    "#2d array that holds the 5 closest for each cluster for k = 2 shape should be 2 rows 5 columns\n",
    "closest = []\n",
    "\n",
    "\n",
    "for centerNum in range(k):\n",
    "    #sets x to the row from centData\n",
    "    X = centData.iloc[[centerNum]]\n",
    "    Y = waveData\n",
    "    closest5 = []\n",
    "    for i in range(5):\n",
    "        #metrics does it by kernel so find 5 points closest to first kernels center first then the does the second one\n",
    "        closestRow = metrics.pairwise_distances_argmin_min(X, Y, metric='euclidean')\n",
    "        #metrics function returns a 2d array where the [0][0] index is the index of the cancerData row that is closest\n",
    "        Y = Y.drop(closestRow[0][0])\n",
    "        closest5.append(closestRow[0][0])\n",
    "    \n",
    "    #append the list of 5 closest points to the overall list of closest 5 points to every cluster center\n",
    "    closest.append(closest5)\n",
    "    print(\"cluster number: \", centerNum)\n",
    "    print(closest[centerNum])"
   ]
  },
  {
   "cell_type": "markdown",
   "metadata": {},
   "source": [
    "## part 2"
   ]
  },
  {
   "cell_type": "code",
   "execution_count": 18,
   "metadata": {},
   "outputs": [],
   "source": [
    "#imports for dendrograms\n",
    "from scipy.cluster import hierarchy\n",
    "import matplotlib.pyplot as plt\n",
    "%matplotlib inline\n",
    "import sys"
   ]
  },
  {
   "cell_type": "markdown",
   "metadata": {},
   "source": [
    "Wave data"
   ]
  },
  {
   "cell_type": "code",
   "execution_count": 19,
   "metadata": {},
   "outputs": [
    {
     "data": {
      "image/png": "[encoded data removed]",
      "text/plain": [
       "<Figure size 432x288 with 1 Axes>"
      ]
     },
     "metadata": {
      "needs_background": "light"
     },
     "output_type": "display_data"
    }
   ],
   "source": [
    "#Wave Data Set\n",
    "sys.setrecursionlimit(20000)\n",
    "\n",
    "X = waveData\n",
    "Z = hierarchy.linkage(X.values, 'single')\n",
    "dn = hierarchy.dendrogram(Z, truncate_mode='lastp', p=12)"
   ]
  },
  {
   "cell_type": "code",
   "execution_count": 20,
   "metadata": {},
   "outputs": [
    {
     "data": {
      "image/png": "[encoded data removed]",
      "text/plain": [
       "<Figure size 432x288 with 1 Axes>"
      ]
     },
     "metadata": {
      "needs_background": "light"
     },
     "output_type": "display_data"
    }
   ],
   "source": [
    "Z = hierarchy.linkage(X.values, 'complete')\n",
    "dn = hierarchy.dendrogram(Z, truncate_mode='lastp', p=12)"
   ]
  },
  {
   "cell_type": "code",
   "execution_count": 21,
   "metadata": {},
   "outputs": [
    {
     "data": {
      "image/png": "[encoded data removed]",
      "text/plain": [
       "<Figure size 432x288 with 1 Axes>"
      ]
     },
     "metadata": {
      "needs_background": "light"
     },
     "output_type": "display_data"
    }
   ],
   "source": [
    "Z = hierarchy.linkage(X.values, 'average')\n",
    "dn = hierarchy.dendrogram(Z, truncate_mode='lastp', p=12)\n"
   ]
  },
  {
   "cell_type": "markdown",
   "metadata": {},
   "source": [
    "cancer data"
   ]
  },
  {
   "cell_type": "code",
   "execution_count": 22,
   "metadata": {},
   "outputs": [
    {
     "data": {
      "image/png": "[encoded data removed]",
      "text/plain": [
       "<Figure size 432x288 with 1 Axes>"
      ]
     },
     "metadata": {
      "needs_background": "light"
     },
     "output_type": "display_data"
    }
   ],
   "source": [
    "#cancer Data Set\n",
    "\n",
    "sys.setrecursionlimit(20000)\n",
    "\n",
    "X = cancerData\n",
    "Z = hierarchy.linkage(X.values, 'single')\n",
    "dn = hierarchy.dendrogram(Z, truncate_mode='lastp', p=12)\n",
    "\n",
    "\n"
   ]
  },
  {
   "cell_type": "code",
   "execution_count": 23,
   "metadata": {},
   "outputs": [
    {
     "data": {
      "image/png": "[encoded data removed]",
      "text/plain": [
       "<Figure size 432x288 with 1 Axes>"
      ]
     },
     "metadata": {
      "needs_background": "light"
     },
     "output_type": "display_data"
    }
   ],
   "source": [
    "Z = hierarchy.linkage(X.values, 'complete')\n",
    "dn = hierarchy.dendrogram(Z, truncate_mode='lastp', p=12)"
   ]
  },
  {
   "cell_type": "code",
   "execution_count": 24,
   "metadata": {},
   "outputs": [
    {
     "data": {
      "image/png": "[encoded data removed]",
      "text/plain": [
       "<Figure size 432x288 with 1 Axes>"
      ]
     },
     "metadata": {
      "needs_background": "light"
     },
     "output_type": "display_data"
    }
   ],
   "source": [
    "Z = hierarchy.linkage(X.values, 'average')\n",
    "dn = hierarchy.dendrogram(Z, truncate_mode='lastp', p=12)"
   ]
  }
 ],
 "metadata": {
  "kernelspec": {
   "display_name": "Python 3",
   "language": "python",
   "name": "python3"
  },
  "language_info": {
   "codemirror_mode": {
    "name": "ipython",
    "version": 3
   },
   "file_extension": ".py",
   "mimetype": "text/x-python",
   "name": "python",
   "nbconvert_exporter": "python",
   "pygments_lexer": "ipython3",
   "version": "3.8.3"
  }
 },
 "nbformat": 4,
 "nbformat_minor": 4
}
